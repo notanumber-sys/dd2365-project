{
  "nbformat": 4,
  "nbformat_minor": 0,
  "metadata": {
    "colab": {
      "name": "template-report-Navier-Stokes.ipynb",
      "provenance": [],
      "include_colab_link": true
    },
    "kernelspec": {
      "name": "python3",
      "display_name": "Python 3"
    }
  },
  "cells": [
    {
      "cell_type": "markdown",
      "metadata": {
        "id": "view-in-github",
        "colab_type": "text"
      },
      "source": [
        "<a href=\"https://colab.research.google.com/github/notanumber-sys/dd2365-project/blob/main/project.ipynb\" target=\"_parent\"><img src=\"https://colab.research.google.com/assets/colab-badge.svg\" alt=\"Open In Colab\"/></a>"
      ]
    },
    {
      "cell_type": "markdown",
      "metadata": {
        "id": "cyCUwzF-wRoW"
      },
      "source": [
        "# **Surface Waves in Steady State Shallow Flow by Navier-Stokes Equations**\n",
        "**Ludwig Karlsson**, based on template by **Johan Hoffman**."
      ]
    },
    {
      "cell_type": "markdown",
      "metadata": {
        "id": "28xLGz8JX3Hh"
      },
      "source": [
        "# **Set up environment**"
      ]
    },
    {
      "cell_type": "code",
      "metadata": {
        "id": "Xw7VlErAX7NS"
      },
      "source": [
        "# Load neccessary modules.\n",
        "from google.colab import files\n",
        "\n",
        "import numpy as np\n",
        "import time\n",
        "\n",
        "# Install FEniCS (this may take a long time)\n",
        "try:\n",
        "    import dolfin\n",
        "except ImportError:\n",
        "    !wget \"https://fem-on-colab.github.io/releases/fenics-install.sh\" -O \"/tmp/fenics-install.sh\" && bash \"/tmp/fenics-install.sh\"\n",
        "    import dolfin\n",
        "    \n",
        "from dolfin import *; from mshr import *\n",
        "\n",
        "import dolfin.common.plotting as fenicsplot\n",
        "\n",
        "from matplotlib import pyplot as plt"
      ],
      "execution_count": 94,
      "outputs": []
    },
    {
      "cell_type": "markdown",
      "metadata": {
        "id": "jOQvukXZq5U5"
      },
      "source": [
        "# **Method**"
      ]
    },
    {
      "cell_type": "markdown",
      "source": [
        "**Launch Options**\n",
        "\n",
        "Change the value of the launch configurator option to choose which experiment to run."
      ],
      "metadata": {
        "id": "j-7gzfyqeBmo"
      }
    },
    {
      "cell_type": "code",
      "source": [
        "# Experiment\n",
        "# 0: Closed tub experiment\n",
        "# 1: Type 1 flow\n",
        "# 2: Type 2 flow\n",
        "# 3: Type 3 flow\n",
        "# 4: Type 4 flow\n",
        "# 5: Type 3 flow alt.\n",
        "\n",
        "launch_configuration = 0\n",
        "\n",
        "# Define rectangular domain \n",
        "L = 10\n",
        "H = 1\n",
        "\n",
        "# bottom shape parameters\n",
        "B0 = H/10\n",
        "r = L/6\n",
        "\n",
        "# initial wave shape\n",
        "wave_epsilon = H/2\n",
        "wave_width = L/10\n",
        "apply_initial_surface_deformation = False\n",
        "\n",
        "# mesh resolution\n",
        "resolution = 12\n",
        "\n",
        "# inflow velocity (for open experiments)\n",
        "U = 1.2\n",
        "\n",
        "# choose boundary conditions\n",
        "closed = False\n",
        "\n",
        "# for outflow, the goal is to be able to expell excess volume if necessary\n",
        "use_velocity_limits = False\n",
        "\n",
        "if launch_configuration == 0:   # closed tub experiment\n",
        "    closed = True\n",
        "    time_step_size_quotient = 20.0\n",
        "    T = 5.0\n",
        "\n",
        "    # wave:\n",
        "    wave_shape = Expression(\"H + weps*exp(-pow(x[0] - L/2, 2)/(ww*ww))\", H=H, weps=wave_epsilon, L=L, ww=wave_width, degree=2)\n",
        "    wave_shape_displacement = Expression((\"0\", \"(weps*exp(-pow(x[0] - L/2, 2)/(ww*ww)))*(x[1] > (H - EH))*((x[1] - H + EH)/EH)\"), H=H, weps=wave_epsilon, L=L, ww=wave_width, EH=effective_height, degree=2)\n",
        "    apply_initial_surface_deformation = True\n",
        "elif launch_configuration == 1: # type 1 flow\n",
        "    time_step_size_quotient = 20.0\n",
        "    T = 5.0\n",
        "\n",
        "    # flat:\n",
        "    wave_shape = Expression(\"H\", H=H, degree=2)\n",
        "elif launch_configuration == 2: # type 2 flow\n",
        "    U = 4.8\n",
        "    time_step_size_quotient = 40.0\n",
        "    T = 2.9\n",
        "\n",
        "    # flat:\n",
        "    wave_shape = Expression(\"H\", H=H, degree=2)\n",
        "elif launch_configuration == 3: # type 3 flow\n",
        "    B0 = H/3\n",
        "    time_step_size_quotient = 30.0\n",
        "    T = 0.55\n",
        "    \n",
        "    use_velocity_limits = True\n",
        "    max_velocity = 1.2*U\n",
        "    min_velocity = 0.8*U\n",
        "\n",
        "    # inverted wave:\n",
        "    wave_shape = Expression(\"H - weps*exp(-pow(x[0] - L/2 - 1, 2)/(ww*ww))\", H=H, weps=H/3, L=L, ww=wave_width, degree=2)\n",
        "    wave_shape_displacement = Expression((\"0\", \"-(weps*exp(-pow(x[0] - L/2 - 1, 2)/(ww*ww)))*(x[1] > (H - EH))*((x[1] - H + EH)/EH)\"), H=H, weps=H/3, L=L, ww=wave_width, EH=effective_height, degree=2)\n",
        "    apply_initial_surface_deformation = True\n",
        "elif launch_configuration == 4: # type 4 flow\n",
        "    B0 = H/5\n",
        "    U = 3.0\n",
        "    time_step_size_quotient = U*10\n",
        "    T = 2.9\n",
        "    \n",
        "    use_velocity_limits = True\n",
        "    max_velocity = 2*U\n",
        "    min_velocity = 1.5*U\n",
        "\n",
        "    # negative sigmoid:\n",
        "    wave_shape = Expression(\"H + 1/(1 + exp(2*(x[0] - 5)))\", H=H, degree=2)\n",
        "    wave_shape_displacement = Expression((\"0\", \"(1/(1 + exp(2*(x[0] - 5))))*(x[1] > (H - EH))*((x[1] - H + EH)/EH)\"), H=H, weps=wave_epsilon, L=L, ww=wave_width, EH=effective_height, degree=2)\n",
        "    apply_initial_surface_deformation = True\n",
        "elif launch_configuration == 5: # potentially type 3\n",
        "    U = 2.4\n",
        "    time_step_size_quotient = U*10\n",
        "    T = 3.0\n",
        "\n",
        "    # flat\n",
        "    wave_shape = Expression(\"H\", H=H, degree=2)\n",
        "\n",
        "effective_height = H - B0\n",
        "\n"
      ],
      "metadata": {
        "id": "yWhxNYSMeApg"
      },
      "execution_count": 95,
      "outputs": []
    },
    {
      "cell_type": "markdown",
      "metadata": {
        "id": "wu2fugJ32t8m"
      },
      "source": [
        "**Define domain and mesh**"
      ]
    },
    {
      "cell_type": "code",
      "metadata": {
        "id": "_KBWOVATuBQz"
      },
      "source": [
        "\n",
        "# Define bump\n",
        "bottom_shape = Expression(\"B0*pow(cos(pi*(x[0] - L/2)/(2*r)), 2.0)*(abs(x[0] - L/2) < r)\", B0=B0, L=L, r=r, degree=2)\n",
        "shape_displacement = Expression((\"0\", \"(B0*pow(cos(pi*(x[0] - L/2)/(2*r)), 2.0)*(abs(x[0] - L/2) < r))*((H - x[1])/H)\"), B0=B0, L=L, r=r, H=H, degree=2)\n",
        "\n",
        "# Define subdomains (for boundary conditions)\n",
        "class Left(SubDomain):\n",
        "    def inside(self, x, on_boundary):\n",
        "        return near(x[0], 0.0) \n",
        "\n",
        "class Right(SubDomain):\n",
        "    def inside(self, x, on_boundary):\n",
        "        return near(x[0], L)\n",
        "\n",
        "class Lower(SubDomain):\n",
        "    def inside(self, x, on_boundary):\n",
        "        if on_boundary and (not near(x[0], 0.0)) and (not near(x[0], L)) and x[1] <= 1.1*B0:\n",
        "            return True\n",
        "        if near(x[1], 0.0) and (near(x[0], 0.0) or near(x[0], L)):\n",
        "            return True\n",
        "        return False\n",
        "\n",
        "class Upper(SubDomain):\n",
        "    def inside(self, x, on_boundary):\n",
        "        return near(x[1], wave_shape(x))\n",
        "      \n",
        "left = Left()\n",
        "right = Right()\n",
        "lower = Lower()\n",
        "upper = Upper()\n",
        "\n",
        "# Generate mesh\n",
        "delta_x = 1/resolution\n",
        "mesh = RectangleMesh(Point(0.0, 0.0), Point(L, H), L*resolution, H*resolution)\n",
        "\n",
        "ALE.move(mesh, shape_displacement)\n",
        "# displace for initial wave shape\n",
        "if apply_initial_surface_deformation:\n",
        "    ALE.move(mesh, wave_shape_displacement)\n",
        "\n",
        "# Define mesh functions (for boundary conditions)\n",
        "boundaries = MeshFunction(\"size_t\", mesh, mesh.topology().dim()-1)\n",
        "boundaries.set_all(0)\n",
        "left.mark(boundaries, 1)\n",
        "right.mark(boundaries, 2)\n",
        "lower.mark(boundaries, 3)\n",
        "upper.mark(boundaries, 4)\n",
        "\n",
        "plt.figure(figsize=(40, 4))\n",
        "plot(mesh, title=\"Initial Mesh\")\n",
        "plt.show()"
      ],
      "execution_count": null,
      "outputs": []
    },
    {
      "cell_type": "markdown",
      "metadata": {
        "id": "-le1iA8u3fS-"
      },
      "source": [
        "**Define finite element approximation spaces**"
      ]
    },
    {
      "cell_type": "code",
      "metadata": {
        "id": "uWeyBcYXuaPq"
      },
      "source": [
        "# Generate finite element spaces (for velocity and pressure)\n",
        "V = VectorFunctionSpace(mesh, \"Lagrange\", 1)\n",
        "Q = FunctionSpace(mesh, \"Lagrange\", 1)\n",
        "\n",
        "# Define trial and test functions \n",
        "u = TrialFunction(V)\n",
        "p = TrialFunction(Q)\n",
        "v = TestFunction(V)\n",
        "q = TestFunction(Q)"
      ],
      "execution_count": 97,
      "outputs": []
    },
    {
      "cell_type": "markdown",
      "metadata": {
        "id": "OKzE7v-B3o9R"
      },
      "source": [
        "**Define boundary conditions**"
      ]
    },
    {
      "cell_type": "code",
      "metadata": {
        "id": "WAsDDvdKujQT"
      },
      "source": [
        "# Define boundary conditions \n",
        "class DirichletBoundaryLower(SubDomain):\n",
        "    def inside(self, x, on_boundary):\n",
        "        if on_boundary and (not near(x[0], 0.0)) and (not near(x[0], L)) and x[1] <= 1.1*B0:\n",
        "            return True\n",
        "        if near(x[1], 0.0) and (near(x[0], 0.0) or near(x[0], L)):\n",
        "            return True\n",
        "        return False\n",
        "\n",
        "class DirichletBoundaryUpper(SubDomain):\n",
        "    def inside(self, x, on_boundary):\n",
        "        return on_boundary and (not near(x[0], 0.0)) and (not near(x[0], L)) and x[1] > 1.1*B0\n",
        "\n",
        "class DirichletBoundaryLeft(SubDomain):\n",
        "    def inside(self, x, on_boundary):\n",
        "        return on_boundary and near(x[0], 0.0) \n",
        "\n",
        "class DirichletBoundaryRight(SubDomain):\n",
        "    def inside(self, x, on_boundary):\n",
        "        return on_boundary and near(x[0], L)\n",
        "\n",
        "dbc_lower = DirichletBoundaryLower()\n",
        "dbc_upper = DirichletBoundaryUpper()\n",
        "dbc_left = DirichletBoundaryLeft()\n",
        "dbc_right = DirichletBoundaryRight()\n",
        "\n",
        "# in flow\n",
        "Vdot = wave_shape(0.0)*U\n",
        "\n",
        "class InVelocityExpression(UserExpression):\n",
        "    def eval(self, value, x):\n",
        "        K = Vdot/self.h\n",
        "        value[0] = K\n",
        "\n",
        "    def value_shape(self):\n",
        "        return ()\n",
        "uin = InVelocityExpression()\n",
        "uin.h = wave_shape(0.0)\n",
        "\n",
        "class OutVelocityExpression(UserExpression):\n",
        "    def eval(self, value, x):\n",
        "        K = Vdot/self.h\n",
        "\n",
        "        if use_velocity_limits:\n",
        "            if K < min_velocity:\n",
        "                K = min_velocity\n",
        "            elif K > max_velocity:\n",
        "                K = max_velocity\n",
        "        value[0] = K\n",
        "\n",
        "    def value_shape(self):\n",
        "        return ()\n",
        "uout = OutVelocityExpression()\n",
        "uout.h = H\n",
        "\n",
        "if closed:\n",
        "    bcu_left0 = DirichletBC(V.sub(0), 0.0, dbc_left)\n",
        "    bcu_right0 = DirichletBC(V.sub(0), 0.0, dbc_right)\n",
        "    bcu_low0 = DirichletBC(V.sub(0), 0.0, dbc_lower)\n",
        "    bcu_low1 = DirichletBC(V.sub(1), 0.0, dbc_lower)\n",
        "\n",
        "    bcp0 = DirichletBC(Q, 0.0, dbc_upper)\n",
        "    \n",
        "    bcu = [bcu_left0, bcu_right0, bcu_low0, bcu_low1]\n",
        "    bcp = [bcp0]\n",
        "else:\n",
        "    bcu_left0 = DirichletBC(V.sub(0), uin, dbc_left)\n",
        "    bcu_right0 = DirichletBC(V.sub(0), uout, dbc_right)\n",
        "    bcu_low0 = DirichletBC(V.sub(0), 0.0, dbc_lower)\n",
        "    bcu_low1 = DirichletBC(V.sub(1), 0.0, dbc_lower)\n",
        "\n",
        "    bcp0 = DirichletBC(Q, 0.0, dbc_upper)\n",
        "\n",
        "    bcu = [bcu_left0, bcu_right0, bcu_low0, bcu_low1]\n",
        "    bcp = [bcp0]\n"
      ],
      "execution_count": 98,
      "outputs": []
    },
    {
      "cell_type": "markdown",
      "metadata": {
        "id": "SsQLT38gVbn_"
      },
      "source": [
        "# **Results**"
      ]
    },
    {
      "cell_type": "markdown",
      "metadata": {
        "id": "lA2Lsqa84Yld"
      },
      "source": [
        "**Define flow parameters**"
      ]
    },
    {
      "cell_type": "code",
      "metadata": {
        "id": "X7tupdYpuq0x"
      },
      "source": [
        "# Set viscosity (water)\n",
        "nu = 1.0e-6 # m²/s\n",
        "rho = 1e3   # kg/m³\n",
        "\n",
        "# set gravity\n",
        "g = 9.81    # m/s²\n",
        "f = Expression((\"0\", \"-g\"), g=g, degree=2);"
      ],
      "execution_count": 99,
      "outputs": []
    },
    {
      "cell_type": "markdown",
      "source": [
        "**Initial Conditions**"
      ],
      "metadata": {
        "id": "EeBFNDEkFI1v"
      }
    },
    {
      "cell_type": "code",
      "source": [
        "class InitialPressureExpression(UserExpression):\n",
        "  def eval(self, value, x):\n",
        "    value[0] = (wave_shape(x) - x[1])*g*rho\n",
        "\n",
        "  def value_shape(self):\n",
        "    return ()\n",
        "\n",
        "class InitialVelocityExpression(UserExpression):\n",
        "  def eval(self, value, x):\n",
        "    value[0] = uin(x[0], x[1])*(wave_shape(0.0))/(wave_shape(x[0]) - bottom_shape(x[0]))\n",
        "    value[1] = 0.0\n",
        "\n",
        "  def value_shape(self):\n",
        "    return (2,)\n",
        "\n",
        "u_init = InitialVelocityExpression()\n",
        "p_init = InitialPressureExpression()"
      ],
      "metadata": {
        "id": "jAL-orKqFOyr"
      },
      "execution_count": 100,
      "outputs": []
    },
    {
      "cell_type": "markdown",
      "metadata": {
        "id": "qI4ZYb5E4w5p"
      },
      "source": [
        "**Define method parameters**"
      ]
    },
    {
      "cell_type": "code",
      "metadata": {
        "id": "6o3zdXWYuuFy"
      },
      "source": [
        "# Define iteration functions\n",
        "# (u0,p0) solution from previous time step\n",
        "# (u1,p1) linearized solution at present time step  \n",
        "u0 = Function(V)\n",
        "u1 = Function(V)\n",
        "p0 = Function(Q)\n",
        "p1 = Function(Q)\n",
        "\n",
        "class DisplacementExpression(UserExpression):\n",
        "    def set_md(self, displacement):\n",
        "        if displacement == None:\n",
        "            self.mesh_displacement = None\n",
        "        else:\n",
        "            self.mesh_displacement = interpolate(displacement, V)\n",
        "            self.mesh_displacement.set_allow_extrapolation(True)\n",
        "    \n",
        "    def eval(self, value, x):\n",
        "        if self.mesh_displacement is None:\n",
        "            value[0] = 0.0\n",
        "            value[1] = 0.0\n",
        "        else:\n",
        "            result = self.mesh_displacement(x[0], x[1])\n",
        "            value[0] = result[0]\n",
        "            value[1] = result[1]\n",
        "\n",
        "    def value_shape(self):\n",
        "        return (2,)\n",
        "w = DisplacementExpression()\n",
        "w.set_md(None)\n",
        "\n",
        "# Set parameters for nonlinear and lienar solvers \n",
        "num_nnlin_iter = 5 \n",
        "prec = \"amg\" if has_krylov_solver_preconditioner(\"amg\") else \"default\" \n",
        "\n",
        "# Time step length\n",
        "dt = 0.5*mesh.hmin() /time_step_size_quotient"
      ],
      "execution_count": 101,
      "outputs": []
    },
    {
      "cell_type": "markdown",
      "metadata": {
        "id": "y0EnzPyU46PX"
      },
      "source": [
        "**Define variational problem**"
      ]
    },
    {
      "cell_type": "code",
      "metadata": {
        "id": "W-bCOI6LuxFi"
      },
      "source": [
        "# Define variational problem\n",
        "\n",
        "# Stabilization parameters\n",
        "h = CellDiameter(mesh);\n",
        "u_mag = sqrt(dot(u1,u1))\n",
        "d1 = 1.0/sqrt((pow(1.0/dt,2.0) + pow(u_mag/h,2.0)))\n",
        "d2 = h*u_mag\n",
        "\n",
        "# Mean velocities for trapozoidal time stepping\n",
        "um = 0.5*(u + u0)\n",
        "um1 = 0.5*(u1 + u0)\n",
        "\n",
        "# Momentum variational equation on residual form\n",
        "Fu = inner((u - u0)/dt + grad(um)*(um1-w/dt), v)*dx \\\n",
        "    - p1*div(v)*dx \\\n",
        "    + nu*inner(grad(um), grad(v))*dx \\\n",
        "    + d1*inner((u - u0)/dt + grad(um)*(um1-w/dt) + (1/rho)*grad(p1), grad(v)*(um1-w/dt))*dx \\\n",
        "    + d2*div(um)*div(v)*dx \\\n",
        "    - inner(f, v)*dx\n",
        "au = lhs(Fu)\n",
        "Lu = rhs(Fu)\n",
        "\n",
        "# Continuity variational equation on residual form\n",
        "Fp = d1*inner((u1 - u0)/dt + grad(um1)*(um1-w/dt) + grad(p), grad(q))*dx + div(um1)*q*dx \n",
        "ap = lhs(Fp)\n",
        "Lp = rhs(Fp)"
      ],
      "execution_count": 102,
      "outputs": []
    },
    {
      "cell_type": "markdown",
      "metadata": {
        "id": "nl9EBgZU6tMZ"
      },
      "source": [
        "**Set plotting variables and open export files**"
      ]
    },
    {
      "cell_type": "code",
      "metadata": {
        "id": "Xpu2R7ZMu3bO"
      },
      "source": [
        "# Open files to export solution to Paraview\n",
        "file_u = File(\"results-NS/u.pvd\")\n",
        "file_p = File(\"results-NS/p.pvd\")\n",
        "\n",
        "# Set plot frequency\n",
        "plot_time = 0\n",
        "plot_freq = 20\n",
        "\n",
        "# Time data \n",
        "time = np.array(0.0)\n",
        "time = np.delete(time, 0)\n",
        "start_sample_time = 1.0"
      ],
      "execution_count": 103,
      "outputs": []
    },
    {
      "cell_type": "markdown",
      "metadata": {
        "id": "F_PajAPw6xdn"
      },
      "source": [
        "**Time stepping algorithm**"
      ]
    },
    {
      "cell_type": "code",
      "metadata": {
        "id": "JUfvsjZPvBc0"
      },
      "source": [
        "!rm results-NS/*\n",
        "\n",
        "# apply initial conditions\n",
        "if not closed:\n",
        "    u0.interpolate(u_init)\n",
        "    u1.interpolate(u_init)\n",
        "\n",
        "print(\"Initial Pressure\")\n",
        "plt.figure(figsize=(40, 4))\n",
        "plot(p1, title=\"Pressure\")\n",
        "print(\"===========\")\n",
        "\n",
        "print(\"Initial Velocity\")\n",
        "plt.figure(figsize=(40, 4))\n",
        "plot(u1, title=\"Velocity\")\n",
        "print(\"===========\")\n",
        "\n",
        "\n",
        "# Time stepping\n",
        "t = dt\n",
        "\n",
        "def surface_node_compare(surface_node):\n",
        "    return surface_node.position[0]\n",
        "\n",
        "# used for boundary deformation scheme\n",
        "class SurfaceNode():\n",
        "    def __init__(self, mesh_index, position, u):\n",
        "        self.mesh_index = mesh_index\n",
        "        self.position = position\n",
        "        self.velocity = u(position[0], position[1])\n",
        "\n",
        "    def setup(self, surface):\n",
        "        if self.index == 0:\n",
        "            self.k = (self.position[1] - surface[1].position[1])/delta_x\n",
        "        elif self.index == len(surface) - 1:\n",
        "            self.k = (surface[-2].position[1] - self.position[1])/delta_x\n",
        "        else:\n",
        "            self.k = (surface[self.index + 1].position[1] - surface[self.index - 1].position[1])/(2*delta_x)\n",
        "\n",
        "        self.k_scale = 1/sqrt(1 + self.k**2)\n",
        "        self.delta_s = delta_x/self.k_scale\n",
        "        self.n = [-self.k*self.k_scale, self.k_scale]\n",
        "        self.Vdot = (self.n[0]*self.velocity[0] + self.n[1]*self.velocity[1])*self.delta_s*dt\n",
        "        self.Vxdot = self.n[0]*self.Vdot\n",
        "        self.Vydot = self.n[1]*self.Vdot\n",
        "        self.W = self.Vydot/delta_x\n",
        "        self.Wp = max(0, self.Vxdot/delta_x)\n",
        "        self.Wm = max(0, -self.Vxdot/delta_x)\n",
        "\n",
        "    def timestep(self, surface, boundary_coordinates):\n",
        "        x = boundary_coordinates[self.mesh_index]\n",
        "        x[1] += self.W\n",
        "        if self.index != 0:\n",
        "            x[1] += surface[self.index - 1].Wp\n",
        "        elif closed:\n",
        "            x[1] += self.Wm\n",
        "        if self.index != len(surface) - 1:\n",
        "            x[1] += surface[self.index + 1].Wm\n",
        "        elif closed:\n",
        "            x[1] += self.Wp\n",
        "        else: # this builds on increasing update order\n",
        "            x[1] = surface[self.index - 1].position[1]\n",
        "        self.position = x\n",
        "\n",
        "while t < T + DOLFIN_EPS:\n",
        "    # extract the boundary mesh for the surface\n",
        "    boundary = BoundaryMesh(mesh, \"exterior\", True)\n",
        "\n",
        "    surface_nodes = []\n",
        "    left_node_indices = []   # not including top\n",
        "    right_node_indices = []  # not including top\n",
        "    left_max = 0\n",
        "    left_max_index = -1\n",
        "    right_max = 0\n",
        "    right_max_index = -1\n",
        "    for i, x in enumerate(boundary.coordinates()):\n",
        "        if lower.inside(x, True):\n",
        "            pass\n",
        "        elif left.inside(x, True):\n",
        "            left_node_indices.append(i)\n",
        "            if x[1] > left_max:\n",
        "                left_max = x[1]\n",
        "                left_max_index = i\n",
        "        elif right.inside(x, True):\n",
        "            right_node_indices.append(i)\n",
        "            if x[1] > right_max:\n",
        "                right_max = x[1]\n",
        "                right_max_index = i\n",
        "        else:\n",
        "            surface_nodes.append(SurfaceNode(i, x, u1))\n",
        "    surface_nodes.insert(0, SurfaceNode(left_max_index, [0.0, left_max], u1))\n",
        "    surface_nodes.append(SurfaceNode(right_max_index, [L, right_max], u1))\n",
        "    left_node_indices.remove(left_max_index)\n",
        "    right_node_indices.remove(right_max_index)\n",
        "\n",
        "    surface_nodes.sort(key=surface_node_compare)\n",
        "\n",
        "    # displace surface boundary\n",
        "    for i, node in enumerate(surface_nodes):\n",
        "        node.index = i\n",
        "    for node in surface_nodes:\n",
        "        node.setup(surface_nodes)\n",
        "    for node in surface_nodes:\n",
        "        node.timestep(surface_nodes, boundary.coordinates())\n",
        "\n",
        "    # deform edge boundary\n",
        "    new_y_left = boundary.coordinates()[left_max_index][1]\n",
        "    for j, i in enumerate(left_node_indices):\n",
        "        x = boundary.coordinates()[i]\n",
        "        positional_scale = x[1]/left_max\n",
        "        x[1] = new_y_left*positional_scale\n",
        "    new_y_right = boundary.coordinates()[right_max_index][1]\n",
        "    for j, i in enumerate(right_node_indices):\n",
        "        x = boundary.coordinates()[i]\n",
        "        positional_scale = x[1]/right_max\n",
        "        x[1] = new_y_right*positional_scale\n",
        "\n",
        "    # Solve non-linear problem \n",
        "    k = 0\n",
        "    while k < num_nnlin_iter: \n",
        "        \n",
        "        # Assemble momentum matrix and vector \n",
        "        Au = assemble(au)\n",
        "        bu = assemble(Lu)\n",
        "\n",
        "        # Compute velocity solution \n",
        "        [bc.apply(Au, bu) for bc in bcu]\n",
        "        [bc.apply(u1.vector()) for bc in bcu]\n",
        "        solve(Au, u1.vector(), bu, \"bicgstab\", \"default\")\n",
        "\n",
        "        # Assemble continuity matrix and vector\n",
        "        Ap = assemble(ap) \n",
        "        bp = assemble(Lp)\n",
        "\n",
        "        # Compute pressure solution \n",
        "        [bc.apply(Ap, bp) for bc in bcp]\n",
        "        [bc.apply(p1.vector()) for bc in bcp]\n",
        "        solve(Ap, p1.vector(), bp, \"bicgstab\", prec)\n",
        "\n",
        "        # Add time\n",
        "        if (t > start_sample_time):\n",
        "          time = np.append(time, t)\n",
        "\n",
        "        k += 1\n",
        "\n",
        "    # Save solution to file at every time step\n",
        "    file_u << u1\n",
        "    file_p << p1\n",
        "\n",
        "    if True or t > plot_time:     \n",
        "        \n",
        "        s = 'Time t = ' + repr(t) \n",
        "        print(s)\n",
        "\n",
        "        # Plot solution\n",
        "        plt.figure(figsize=(40, 4))\n",
        "        plot(u1, title=\"Velocity\")\n",
        "\n",
        "        plt.figure(figsize=(40, 4))\n",
        "        plot(p1, title=\"Pressure\")\n",
        "\n",
        "        for node in surface_nodes:\n",
        "          print(str(node.position[1]) + \" \", end=\"\")\n",
        "        print()\n",
        "        \n",
        "        plot_time += T/plot_freq\n",
        "        \n",
        "        plt.show()\n",
        "\n",
        "    # reshape mesh\n",
        "    w_new = ALE.move(mesh, boundary)\n",
        "    w.set_md(w_new)\n",
        "    uout.h = right_max\n",
        "    uin.h = left_max\n",
        "    # this supposedly helps to avoid crashing at solve\n",
        "    mesh.bounding_box_tree().build(mesh)\n",
        "\n",
        "    # show reshaped mesh\n",
        "    print(\"New Mesh:\")\n",
        "    plt.figure(figsize=(40, 4))\n",
        "    plot(mesh, title=\"Mesh\")\n",
        "\n",
        "    # Update time step\n",
        "    u0.assign(u1)\n",
        "    t += dt"
      ],
      "execution_count": null,
      "outputs": []
    },
    {
      "cell_type": "code",
      "source": [
        "\n",
        "# automatically saves the result after simulation,\n",
        "# this can be done manually if the simulation had to be interrupted. \n",
        "!tar -czvf results-NS.tar.gz results-NS\n",
        "files.download('results-NS.tar.gz')"
      ],
      "metadata": {
        "id": "EP4e3JKQZy-e"
      },
      "execution_count": null,
      "outputs": []
    }
  ]
}